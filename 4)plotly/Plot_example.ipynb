{
 "cells": [
  {
   "cell_type": "markdown",
   "metadata": {},
   "source": [
    "# Import Libraries"
   ]
  },
  {
   "cell_type": "code",
   "execution_count": null,
   "metadata": {},
   "outputs": [],
   "source": [
    "# import\n",
    "import requests\n",
    "import datetime\n",
    "from datetime import datetime\n",
    "from pandas import DataFrame\n",
    "import json\n",
    "import calendar\n",
    "\n",
    "import plotly.plotly as py\n",
    "import plotly.tools as tls\n",
    "import plotly.graph_objs as go\n",
    "tls.set_credentials_file(username='TPponmat', api_key='Soc6snGEewzHbs1vgaK8R1')\n",
    "\n",
    "import pandas as pd\n",
    "import numpy as np\n",
    "import matplotlib.pyplot as plt\n",
    "from IPython.display import Image\n",
    "%matplotlib inline"
   ]
  },
  {
   "cell_type": "code",
   "execution_count": null,
   "metadata": {},
   "outputs": [],
   "source": [
    "from pandas import DataFrame"
   ]
  },
  {
   "cell_type": "markdown",
   "metadata": {},
   "source": [
    "# checkout data"
   ]
  },
  {
   "cell_type": "markdown",
   "metadata": {},
   "source": [
    "### 2. Inverter ###"
   ]
  },
  {
   "cell_type": "code",
   "execution_count": null,
   "metadata": {},
   "outputs": [],
   "source": [
    "iris_excel_path = \"https://github.com/TPponmat/basic_python_pea/raw/master/4)plotly/SD1740L010%20-%202018-02-20.xls\"\n",
    "inverter_data = pd.read_excel(iris_excel_path, parse_dates = True, index_col = 0)\n",
    "inverter_data.head(5)"
   ]
  },
  {
   "cell_type": "code",
   "execution_count": null,
   "metadata": {},
   "outputs": [],
   "source": [
    "inverter_data.columns"
   ]
  },
  {
   "cell_type": "code",
   "execution_count": null,
   "metadata": {},
   "outputs": [],
   "source": [
    "inverter_data.describe()"
   ]
  },
  {
   "cell_type": "code",
   "execution_count": null,
   "metadata": {},
   "outputs": [],
   "source": [
    "inverter_data['Time'] = pd.to_datetime(inverter_data['Time'], format='%Y-%m-%d %H:%M:%S') \n",
    "inverter_data.head()"
   ]
  },
  {
   "cell_type": "code",
   "execution_count": null,
   "metadata": {},
   "outputs": [],
   "source": [
    "time = [u'20/02/2018 00:00', u'20/02/2018 01:00', u'20/02/2018 01:00', u'20/02/2018 02:00', u'20/02/2018 03:00', u'20/02/2018 04:00', u'20/02/2018 04:00', u'20/02/2018 06:00', u'20/02/2018 06:30', u'20/02/2018 07:00', u'20/02/2018 07:00', u'20/02/2018 08:00', u'20/02/2018 09:00', u'20/02/2018 10:00', u'20/02/2018 10:00', u'20/02/2018 11:00', u'20/02/2018 12:00', u'20/02/2018 13:00', u'20/02/2018 13:00', u'20/02/2018 14:00', u'20/02/2018 15:00', u'20/02/2018 16:00', u'20/02/2018 16:00', u'20/02/2018 17:00', u'20/02/2018 17:30', u'20/02/2018 18:00', u'20/02/2018 19:00', u'20/02/2018 19:00', u'20/02/2018 20:00', u'20/02/2018 21:00', u'20/02/2018 22:00', u'20/02/2018 22:00', u'20/02/2018 23:00']\n",
    "temp = [u'27.0', u'28', u'26.0', u'26.0', u'26.0', u'26', u'25.0', u'23.0', u'23.0', u'25', u'23.0', u'26.0', u'28.0', u'30', u'31.0', u'32.0', u'33.0', u'34', u'33.0', u'34.0', u'35.0', u'35', u'35.0', u'34.0', u'33.0', u'31.0', u'32', u'30.0', u'29.0', u'28.0', u'29', u'26.0', u'25.0']\n",
    "\n",
    "\n",
    "humidity=[u'74', u'61', u'78', u'78', u'74', u'65', u'78', u'88', u'88', u'73', u'88', u'83', u'84', u'54', u'66', u'62', u'59', u'37', u'55', u'52', u'49', u'34', u'47', u'46', u'55', u'62', u'35', u'58', u'66', u'70', u'60', u'83', u'89']\n",
    "windspeed=[u'5.6', u'0.0', u'0.0', u'5.6', u'5.6', u'0.0', u'5.6', u'3.7', u'3.7', u'0.0', u'0.0', u'3.7', u'11.1', u'9.3', u'9.3', u'9.3', u'11.1', u'9.3', u'5.6', u'5.6', u'7.4', u'7.4', u'3.7', u'3.7', u'0.0', u'0.0', u'0.0', u'0.0', u'0.0', u'0.0', u'0.0', u'0.0', u'0.0']\n",
    "pressure=[u'1010', u'1010', u'1010', u'1010', u'1010', u'1010', u'1010', u'1011', u'1011', u'1011', u'1011', u'1012', u'1013', u'1012', u'1013', u'1012', u'1010', u'1008', u'1009', u'1008', u'1007', u'1006', u'1007', u'1007', u'1007', u'1007', u'1007', u'1008', u'1008', u'1009', u'1008', u'1009', u'1009']\n",
    "conditions=[u'Mostly Cloudy', u'Scattered Clouds', u'Scattered Clouds', u'Scattered Clouds', u'Scattered Clouds', u'Partly Cloudy', u'Scattered Clouds', u'Scattered Clouds', u'Mostly Cloudy', u'Scattered Clouds', u'Mostly Cloudy', u'Mostly Cloudy', u'Unknown', u'Scattered Clouds', u'Partly Cloudy', u'Scattered Clouds', u'Scattered Clouds', u'Scattered Clouds', u'Scattered Clouds', u'Scattered Clouds', u'Partly Cloudy', u'Scattered Clouds', u'Partly Cloudy', u'Unknown', u'Unknown', u'Unknown', u'Clear', u'Unknown', u'Unknown', u'Unknown', u'Clear', u'Unknown', u'Unknown']\n",
    "\n",
    "time_new = pd.to_datetime(time, format='%d/%m/%Y %H:%M')\n",
    "time_new"
   ]
  },
  {
   "cell_type": "code",
   "execution_count": null,
   "metadata": {},
   "outputs": [],
   "source": [
    "print(max(temp))\n",
    "print(min(temp))\n",
    "print(max(humidity))\n",
    "print(min(humidity))"
   ]
  },
  {
   "cell_type": "code",
   "execution_count": null,
   "metadata": {},
   "outputs": [],
   "source": [
    "trace5 = go.Scatter(\n",
    "    x=time_new,\n",
    "    y=humidity,\n",
    "    name='Humidity111',\n",
    "    yaxis='y2'\n",
    ")\n",
    "\n",
    "data = [trace5]\n",
    "layout = go.Layout(\n",
    "    xaxis=dict(\n",
    "        title='time'\n",
    "    ),\n",
    "    yaxis=dict(\n",
    "        title='Temperature (C)'\n",
    "    )\n",
    ")\n",
    "fig = go.Figure(data=data, layout=layout)\n",
    "py.iplot(fig, filename='test1')"
   ]
  },
  {
   "cell_type": "markdown",
   "metadata": {},
   "source": [
    "# 3. Inverter another day"
   ]
  },
  {
   "cell_type": "code",
   "execution_count": null,
   "metadata": {},
   "outputs": [],
   "source": [
    "iris_excel_path = \"https://github.com/TPponmat/basic_python_pea/raw/master/4)plotly/SD1740L010%20-%202018-02-20.xls\"\n",
    "inverter_data = pd.read_excel(iris_excel_path, parse_dates = True, index_col = 0)\n",
    "inverter_data.head()\n",
    "inverter_data.describe().transpose()"
   ]
  },
  {
   "cell_type": "code",
   "execution_count": null,
   "metadata": {},
   "outputs": [],
   "source": [
    "inverter_data['Time'] = pd.to_datetime(inverter_data['Time'], format='%Y-%m-%d %H:%M:%S') \n",
    "data_to_use = inverter_data.copy()\n",
    "inverter_data.head()"
   ]
  },
  {
   "cell_type": "code",
   "execution_count": null,
   "metadata": {},
   "outputs": [],
   "source": []
  },
  {
   "cell_type": "markdown",
   "metadata": {},
   "source": [
    "# Weather"
   ]
  },
  {
   "cell_type": "code",
   "execution_count": null,
   "metadata": {},
   "outputs": [],
   "source": [
    "# http://api.wunderground.com/api/91cb5e6aefa48a31/history_20180220/q/TH/Ubon_Ratchathani.json"
   ]
  },
  {
   "cell_type": "code",
   "execution_count": null,
   "metadata": {},
   "outputs": [],
   "source": [
    "time = [u'20/02/2018 00:00', u'20/02/2018 01:00', u'20/02/2018 01:00', u'20/02/2018 02:00', u'20/02/2018 03:00', u'20/02/2018 04:00', u'20/02/2018 04:00', u'20/02/2018 06:00', u'20/02/2018 06:30', u'20/02/2018 07:00', u'20/02/2018 07:00', u'20/02/2018 08:00', u'20/02/2018 09:00', u'20/02/2018 10:00', u'20/02/2018 10:00', u'20/02/2018 11:00', u'20/02/2018 12:00', u'20/02/2018 13:00', u'20/02/2018 13:00', u'20/02/2018 14:00', u'20/02/2018 15:00', u'20/02/2018 16:00', u'20/02/2018 16:00', u'20/02/2018 17:00', u'20/02/2018 17:30', u'20/02/2018 18:00', u'20/02/2018 19:00', u'20/02/2018 19:00', u'20/02/2018 20:00', u'20/02/2018 21:00', u'20/02/2018 22:00', u'20/02/2018 22:00', u'20/02/2018 23:00']\n",
    "temp = [u'27.0', u'28', u'26.0', u'26.0', u'26.0', u'26', u'25.0', u'23.0', u'23.0', u'25', u'23.0', u'26.0', u'28.0', u'30', u'31.0', u'32.0', u'33.0', u'34', u'33.0', u'34.0', u'35.0', u'35', u'35.0', u'34.0', u'33.0', u'31.0', u'32', u'30.0', u'29.0', u'28.0', u'29', u'26.0', u'25.0']\n",
    "time_new = pd.to_datetime(time, format='%d/%m/%Y %H:%M')\n",
    "time_new"
   ]
  },
  {
   "cell_type": "code",
   "execution_count": null,
   "metadata": {},
   "outputs": [],
   "source": [
    "trace5 = go.Scatter(\n",
    "    x=time_new,\n",
    "    y=temp,\n",
    "    name='Ppv(W)',\n",
    "    yaxis='y1'\n",
    ")\n",
    "\n",
    "trace6 = go.Scatter(\n",
    "    x=data_to_use['Time'],\n",
    "    y=-1*data_to_use['Pac(W)'],\n",
    "    name='Pac(W)',\n",
    "    yaxis='y1'\n",
    ")\n",
    "\n",
    "data = [trace5,trace6]\n",
    "layout = go.Layout(\n",
    "    xaxis=dict(\n",
    "        title='time'\n",
    "    ),\n",
    "    yaxis=dict(\n",
    "        title='Outdoor Temp (C)'\n",
    "    )\n",
    ")\n",
    "fig = go.Figure(data=data, layout=layout)\n",
    "py.iplot(fig, filename='test/test')"
   ]
  },
  {
   "cell_type": "code",
   "execution_count": null,
   "metadata": {},
   "outputs": [],
   "source": []
  },
  {
   "cell_type": "code",
   "execution_count": null,
   "metadata": {},
   "outputs": [],
   "source": []
  },
  {
   "cell_type": "code",
   "execution_count": null,
   "metadata": {},
   "outputs": [],
   "source": []
  }
 ],
 "metadata": {
  "kernelspec": {
   "display_name": "Python 3",
   "language": "python",
   "name": "python3"
  },
  "language_info": {
   "codemirror_mode": {
    "name": "ipython",
    "version": 3
   },
   "file_extension": ".py",
   "mimetype": "text/x-python",
   "name": "python",
   "nbconvert_exporter": "python",
   "pygments_lexer": "ipython3",
   "version": "3.6.7"
  }
 },
 "nbformat": 4,
 "nbformat_minor": 2
}
